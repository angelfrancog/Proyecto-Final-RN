{
 "cells": [
  {
   "attachments": {},
   "cell_type": "markdown",
   "metadata": {},
   "source": [
    "# EDA (Exploratory Data Analysis)\n",
    "Voy a importar los datos directamente al Notebook usando la librería de Yahoo Finance.\n",
    "Se usarán diferentes Cryptomonedas que yo escogí por su relevancia en el mercado."
   ]
  },
  {
   "cell_type": "code",
   "execution_count": 268,
   "metadata": {},
   "outputs": [],
   "source": [
    "import yfinance as yf\n",
    "import pandas as pd\n",
    "import numpy as np\n",
    "import matplotlib.pyplot as plt"
   ]
  },
  {
   "cell_type": "code",
   "execution_count": 269,
   "metadata": {},
   "outputs": [
    {
     "name": "stdout",
     "output_type": "stream",
     "text": [
      "[*********************100%%**********************]  1 of 1 completed\n"
     ]
    },
    {
     "data": {
      "text/html": [
       "<div>\n",
       "<style scoped>\n",
       "    .dataframe tbody tr th:only-of-type {\n",
       "        vertical-align: middle;\n",
       "    }\n",
       "\n",
       "    .dataframe tbody tr th {\n",
       "        vertical-align: top;\n",
       "    }\n",
       "\n",
       "    .dataframe thead th {\n",
       "        text-align: right;\n",
       "    }\n",
       "</style>\n",
       "<table border=\"1\" class=\"dataframe\">\n",
       "  <thead>\n",
       "    <tr style=\"text-align: right;\">\n",
       "      <th></th>\n",
       "      <th>Open</th>\n",
       "      <th>High</th>\n",
       "      <th>Low</th>\n",
       "      <th>Close</th>\n",
       "      <th>Adj Close</th>\n",
       "      <th>Volume</th>\n",
       "    </tr>\n",
       "    <tr>\n",
       "      <th>Date</th>\n",
       "      <th></th>\n",
       "      <th></th>\n",
       "      <th></th>\n",
       "      <th></th>\n",
       "      <th></th>\n",
       "      <th></th>\n",
       "    </tr>\n",
       "  </thead>\n",
       "  <tbody>\n",
       "    <tr>\n",
       "      <th>2021-01-01</th>\n",
       "      <td>28994.009766</td>\n",
       "      <td>29600.626953</td>\n",
       "      <td>28803.585938</td>\n",
       "      <td>29374.152344</td>\n",
       "      <td>29374.152344</td>\n",
       "      <td>40730301359</td>\n",
       "    </tr>\n",
       "    <tr>\n",
       "      <th>2021-01-02</th>\n",
       "      <td>29376.455078</td>\n",
       "      <td>33155.117188</td>\n",
       "      <td>29091.181641</td>\n",
       "      <td>32127.267578</td>\n",
       "      <td>32127.267578</td>\n",
       "      <td>67865420765</td>\n",
       "    </tr>\n",
       "    <tr>\n",
       "      <th>2021-01-03</th>\n",
       "      <td>32129.408203</td>\n",
       "      <td>34608.558594</td>\n",
       "      <td>32052.316406</td>\n",
       "      <td>32782.023438</td>\n",
       "      <td>32782.023438</td>\n",
       "      <td>78665235202</td>\n",
       "    </tr>\n",
       "    <tr>\n",
       "      <th>2021-01-04</th>\n",
       "      <td>32810.949219</td>\n",
       "      <td>33440.218750</td>\n",
       "      <td>28722.755859</td>\n",
       "      <td>31971.914062</td>\n",
       "      <td>31971.914062</td>\n",
       "      <td>81163475344</td>\n",
       "    </tr>\n",
       "    <tr>\n",
       "      <th>2021-01-05</th>\n",
       "      <td>31977.041016</td>\n",
       "      <td>34437.589844</td>\n",
       "      <td>30221.187500</td>\n",
       "      <td>33992.429688</td>\n",
       "      <td>33992.429688</td>\n",
       "      <td>67547324782</td>\n",
       "    </tr>\n",
       "    <tr>\n",
       "      <th>...</th>\n",
       "      <td>...</td>\n",
       "      <td>...</td>\n",
       "      <td>...</td>\n",
       "      <td>...</td>\n",
       "      <td>...</td>\n",
       "      <td>...</td>\n",
       "    </tr>\n",
       "    <tr>\n",
       "      <th>2024-04-29</th>\n",
       "      <td>63106.363281</td>\n",
       "      <td>64174.878906</td>\n",
       "      <td>61795.457031</td>\n",
       "      <td>63841.121094</td>\n",
       "      <td>63841.121094</td>\n",
       "      <td>26635912073</td>\n",
       "    </tr>\n",
       "    <tr>\n",
       "      <th>2024-04-30</th>\n",
       "      <td>63839.417969</td>\n",
       "      <td>64703.332031</td>\n",
       "      <td>59120.066406</td>\n",
       "      <td>60636.855469</td>\n",
       "      <td>60636.855469</td>\n",
       "      <td>37840840057</td>\n",
       "    </tr>\n",
       "    <tr>\n",
       "      <th>2024-05-01</th>\n",
       "      <td>60609.496094</td>\n",
       "      <td>60780.500000</td>\n",
       "      <td>56555.292969</td>\n",
       "      <td>58254.011719</td>\n",
       "      <td>58254.011719</td>\n",
       "      <td>48439780271</td>\n",
       "    </tr>\n",
       "    <tr>\n",
       "      <th>2024-05-02</th>\n",
       "      <td>58253.703125</td>\n",
       "      <td>59602.296875</td>\n",
       "      <td>56937.203125</td>\n",
       "      <td>59123.433594</td>\n",
       "      <td>59123.433594</td>\n",
       "      <td>32711813559</td>\n",
       "    </tr>\n",
       "    <tr>\n",
       "      <th>2024-05-03</th>\n",
       "      <td>59087.492188</td>\n",
       "      <td>62153.007812</td>\n",
       "      <td>58857.058594</td>\n",
       "      <td>61842.648438</td>\n",
       "      <td>61842.648438</td>\n",
       "      <td>31752036352</td>\n",
       "    </tr>\n",
       "  </tbody>\n",
       "</table>\n",
       "<p>1219 rows × 6 columns</p>\n",
       "</div>"
      ],
      "text/plain": [
       "                    Open          High           Low         Close  \\\n",
       "Date                                                                 \n",
       "2021-01-01  28994.009766  29600.626953  28803.585938  29374.152344   \n",
       "2021-01-02  29376.455078  33155.117188  29091.181641  32127.267578   \n",
       "2021-01-03  32129.408203  34608.558594  32052.316406  32782.023438   \n",
       "2021-01-04  32810.949219  33440.218750  28722.755859  31971.914062   \n",
       "2021-01-05  31977.041016  34437.589844  30221.187500  33992.429688   \n",
       "...                  ...           ...           ...           ...   \n",
       "2024-04-29  63106.363281  64174.878906  61795.457031  63841.121094   \n",
       "2024-04-30  63839.417969  64703.332031  59120.066406  60636.855469   \n",
       "2024-05-01  60609.496094  60780.500000  56555.292969  58254.011719   \n",
       "2024-05-02  58253.703125  59602.296875  56937.203125  59123.433594   \n",
       "2024-05-03  59087.492188  62153.007812  58857.058594  61842.648438   \n",
       "\n",
       "               Adj Close       Volume  \n",
       "Date                                   \n",
       "2021-01-01  29374.152344  40730301359  \n",
       "2021-01-02  32127.267578  67865420765  \n",
       "2021-01-03  32782.023438  78665235202  \n",
       "2021-01-04  31971.914062  81163475344  \n",
       "2021-01-05  33992.429688  67547324782  \n",
       "...                  ...          ...  \n",
       "2024-04-29  63841.121094  26635912073  \n",
       "2024-04-30  60636.855469  37840840057  \n",
       "2024-05-01  58254.011719  48439780271  \n",
       "2024-05-02  59123.433594  32711813559  \n",
       "2024-05-03  61842.648438  31752036352  \n",
       "\n",
       "[1219 rows x 6 columns]"
      ]
     },
     "execution_count": 269,
     "metadata": {},
     "output_type": "execute_result"
    }
   ],
   "source": [
    "btc = yf.download(\"BTC-USD\", start = \"2021-01-01\")\n",
    "btc"
   ]
  },
  {
   "cell_type": "code",
   "execution_count": 270,
   "metadata": {},
   "outputs": [
    {
     "name": "stdout",
     "output_type": "stream",
     "text": [
      "[*********************100%%**********************]  1 of 1 completed\n"
     ]
    },
    {
     "data": {
      "text/html": [
       "<div>\n",
       "<style scoped>\n",
       "    .dataframe tbody tr th:only-of-type {\n",
       "        vertical-align: middle;\n",
       "    }\n",
       "\n",
       "    .dataframe tbody tr th {\n",
       "        vertical-align: top;\n",
       "    }\n",
       "\n",
       "    .dataframe thead th {\n",
       "        text-align: right;\n",
       "    }\n",
       "</style>\n",
       "<table border=\"1\" class=\"dataframe\">\n",
       "  <thead>\n",
       "    <tr style=\"text-align: right;\">\n",
       "      <th></th>\n",
       "      <th>Open</th>\n",
       "      <th>High</th>\n",
       "      <th>Low</th>\n",
       "      <th>Close</th>\n",
       "      <th>Adj Close</th>\n",
       "      <th>Volume</th>\n",
       "    </tr>\n",
       "    <tr>\n",
       "      <th>Date</th>\n",
       "      <th></th>\n",
       "      <th></th>\n",
       "      <th></th>\n",
       "      <th></th>\n",
       "      <th></th>\n",
       "      <th></th>\n",
       "    </tr>\n",
       "  </thead>\n",
       "  <tbody>\n",
       "    <tr>\n",
       "      <th>2021-01-01</th>\n",
       "      <td>737.708374</td>\n",
       "      <td>749.201843</td>\n",
       "      <td>719.792236</td>\n",
       "      <td>730.367554</td>\n",
       "      <td>730.367554</td>\n",
       "      <td>13652004358</td>\n",
       "    </tr>\n",
       "    <tr>\n",
       "      <th>2021-01-02</th>\n",
       "      <td>730.402649</td>\n",
       "      <td>786.798462</td>\n",
       "      <td>718.109497</td>\n",
       "      <td>774.534973</td>\n",
       "      <td>774.534973</td>\n",
       "      <td>19740771179</td>\n",
       "    </tr>\n",
       "    <tr>\n",
       "      <th>2021-01-03</th>\n",
       "      <td>774.511841</td>\n",
       "      <td>1006.565002</td>\n",
       "      <td>771.561646</td>\n",
       "      <td>975.507690</td>\n",
       "      <td>975.507690</td>\n",
       "      <td>45200463368</td>\n",
       "    </tr>\n",
       "    <tr>\n",
       "      <th>2021-01-04</th>\n",
       "      <td>977.058838</td>\n",
       "      <td>1153.189209</td>\n",
       "      <td>912.305359</td>\n",
       "      <td>1040.233032</td>\n",
       "      <td>1040.233032</td>\n",
       "      <td>56945985763</td>\n",
       "    </tr>\n",
       "    <tr>\n",
       "      <th>2021-01-05</th>\n",
       "      <td>1041.498779</td>\n",
       "      <td>1129.371460</td>\n",
       "      <td>986.811279</td>\n",
       "      <td>1100.006104</td>\n",
       "      <td>1100.006104</td>\n",
       "      <td>41535932781</td>\n",
       "    </tr>\n",
       "    <tr>\n",
       "      <th>...</th>\n",
       "      <td>...</td>\n",
       "      <td>...</td>\n",
       "      <td>...</td>\n",
       "      <td>...</td>\n",
       "      <td>...</td>\n",
       "      <td>...</td>\n",
       "    </tr>\n",
       "    <tr>\n",
       "      <th>2024-04-29</th>\n",
       "      <td>3262.340820</td>\n",
       "      <td>3285.468750</td>\n",
       "      <td>3116.199951</td>\n",
       "      <td>3215.428955</td>\n",
       "      <td>3215.428955</td>\n",
       "      <td>15032246816</td>\n",
       "    </tr>\n",
       "    <tr>\n",
       "      <th>2024-04-30</th>\n",
       "      <td>3215.381104</td>\n",
       "      <td>3249.378418</td>\n",
       "      <td>2918.228760</td>\n",
       "      <td>3012.286865</td>\n",
       "      <td>3012.286865</td>\n",
       "      <td>18266894653</td>\n",
       "    </tr>\n",
       "    <tr>\n",
       "      <th>2024-05-01</th>\n",
       "      <td>3011.015625</td>\n",
       "      <td>3020.173340</td>\n",
       "      <td>2815.923340</td>\n",
       "      <td>2969.784668</td>\n",
       "      <td>2969.784668</td>\n",
       "      <td>20005057445</td>\n",
       "    </tr>\n",
       "    <tr>\n",
       "      <th>2024-05-02</th>\n",
       "      <td>2969.794434</td>\n",
       "      <td>3015.050293</td>\n",
       "      <td>2894.329834</td>\n",
       "      <td>2988.168457</td>\n",
       "      <td>2988.168457</td>\n",
       "      <td>13163903903</td>\n",
       "    </tr>\n",
       "    <tr>\n",
       "      <th>2024-05-03</th>\n",
       "      <td>2987.146484</td>\n",
       "      <td>3085.381348</td>\n",
       "      <td>2963.501709</td>\n",
       "      <td>3081.113525</td>\n",
       "      <td>3081.113525</td>\n",
       "      <td>12770166784</td>\n",
       "    </tr>\n",
       "  </tbody>\n",
       "</table>\n",
       "<p>1219 rows × 6 columns</p>\n",
       "</div>"
      ],
      "text/plain": [
       "                   Open         High          Low        Close    Adj Close  \\\n",
       "Date                                                                          \n",
       "2021-01-01   737.708374   749.201843   719.792236   730.367554   730.367554   \n",
       "2021-01-02   730.402649   786.798462   718.109497   774.534973   774.534973   \n",
       "2021-01-03   774.511841  1006.565002   771.561646   975.507690   975.507690   \n",
       "2021-01-04   977.058838  1153.189209   912.305359  1040.233032  1040.233032   \n",
       "2021-01-05  1041.498779  1129.371460   986.811279  1100.006104  1100.006104   \n",
       "...                 ...          ...          ...          ...          ...   \n",
       "2024-04-29  3262.340820  3285.468750  3116.199951  3215.428955  3215.428955   \n",
       "2024-04-30  3215.381104  3249.378418  2918.228760  3012.286865  3012.286865   \n",
       "2024-05-01  3011.015625  3020.173340  2815.923340  2969.784668  2969.784668   \n",
       "2024-05-02  2969.794434  3015.050293  2894.329834  2988.168457  2988.168457   \n",
       "2024-05-03  2987.146484  3085.381348  2963.501709  3081.113525  3081.113525   \n",
       "\n",
       "                 Volume  \n",
       "Date                     \n",
       "2021-01-01  13652004358  \n",
       "2021-01-02  19740771179  \n",
       "2021-01-03  45200463368  \n",
       "2021-01-04  56945985763  \n",
       "2021-01-05  41535932781  \n",
       "...                 ...  \n",
       "2024-04-29  15032246816  \n",
       "2024-04-30  18266894653  \n",
       "2024-05-01  20005057445  \n",
       "2024-05-02  13163903903  \n",
       "2024-05-03  12770166784  \n",
       "\n",
       "[1219 rows x 6 columns]"
      ]
     },
     "execution_count": 270,
     "metadata": {},
     "output_type": "execute_result"
    }
   ],
   "source": [
    "eth = yf.download(\"ETH-USD\", start = \"2021-01-01\")\n",
    "eth"
   ]
  },
  {
   "cell_type": "code",
   "execution_count": 271,
   "metadata": {},
   "outputs": [
    {
     "name": "stdout",
     "output_type": "stream",
     "text": [
      "[*********************100%%**********************]  1 of 1 completed\n"
     ]
    },
    {
     "data": {
      "text/html": [
       "<div>\n",
       "<style scoped>\n",
       "    .dataframe tbody tr th:only-of-type {\n",
       "        vertical-align: middle;\n",
       "    }\n",
       "\n",
       "    .dataframe tbody tr th {\n",
       "        vertical-align: top;\n",
       "    }\n",
       "\n",
       "    .dataframe thead th {\n",
       "        text-align: right;\n",
       "    }\n",
       "</style>\n",
       "<table border=\"1\" class=\"dataframe\">\n",
       "  <thead>\n",
       "    <tr style=\"text-align: right;\">\n",
       "      <th></th>\n",
       "      <th>Open</th>\n",
       "      <th>High</th>\n",
       "      <th>Low</th>\n",
       "      <th>Close</th>\n",
       "      <th>Adj Close</th>\n",
       "      <th>Volume</th>\n",
       "    </tr>\n",
       "    <tr>\n",
       "      <th>Date</th>\n",
       "      <th></th>\n",
       "      <th></th>\n",
       "      <th></th>\n",
       "      <th></th>\n",
       "      <th></th>\n",
       "      <th></th>\n",
       "    </tr>\n",
       "  </thead>\n",
       "  <tbody>\n",
       "    <tr>\n",
       "      <th>2021-01-01</th>\n",
       "      <td>0.181382</td>\n",
       "      <td>0.184246</td>\n",
       "      <td>0.172022</td>\n",
       "      <td>0.175350</td>\n",
       "      <td>0.175350</td>\n",
       "      <td>1122218004</td>\n",
       "    </tr>\n",
       "    <tr>\n",
       "      <th>2021-01-02</th>\n",
       "      <td>0.175359</td>\n",
       "      <td>0.184253</td>\n",
       "      <td>0.169233</td>\n",
       "      <td>0.177423</td>\n",
       "      <td>0.177423</td>\n",
       "      <td>1408849504</td>\n",
       "    </tr>\n",
       "    <tr>\n",
       "      <th>2021-01-03</th>\n",
       "      <td>0.177382</td>\n",
       "      <td>0.208679</td>\n",
       "      <td>0.173376</td>\n",
       "      <td>0.204995</td>\n",
       "      <td>0.204995</td>\n",
       "      <td>2303857909</td>\n",
       "    </tr>\n",
       "    <tr>\n",
       "      <th>2021-01-04</th>\n",
       "      <td>0.205236</td>\n",
       "      <td>0.239661</td>\n",
       "      <td>0.194450</td>\n",
       "      <td>0.224762</td>\n",
       "      <td>0.224762</td>\n",
       "      <td>3260699086</td>\n",
       "    </tr>\n",
       "    <tr>\n",
       "      <th>2021-01-05</th>\n",
       "      <td>0.224817</td>\n",
       "      <td>0.264886</td>\n",
       "      <td>0.208454</td>\n",
       "      <td>0.258314</td>\n",
       "      <td>0.258314</td>\n",
       "      <td>4097207384</td>\n",
       "    </tr>\n",
       "    <tr>\n",
       "      <th>...</th>\n",
       "      <td>...</td>\n",
       "      <td>...</td>\n",
       "      <td>...</td>\n",
       "      <td>...</td>\n",
       "      <td>...</td>\n",
       "      <td>...</td>\n",
       "    </tr>\n",
       "    <tr>\n",
       "      <th>2024-04-29</th>\n",
       "      <td>0.460482</td>\n",
       "      <td>0.463061</td>\n",
       "      <td>0.448116</td>\n",
       "      <td>0.457365</td>\n",
       "      <td>0.457365</td>\n",
       "      <td>301014261</td>\n",
       "    </tr>\n",
       "    <tr>\n",
       "      <th>2024-04-30</th>\n",
       "      <td>0.457363</td>\n",
       "      <td>0.462385</td>\n",
       "      <td>0.427744</td>\n",
       "      <td>0.440812</td>\n",
       "      <td>0.440812</td>\n",
       "      <td>409016669</td>\n",
       "    </tr>\n",
       "    <tr>\n",
       "      <th>2024-05-01</th>\n",
       "      <td>0.440815</td>\n",
       "      <td>0.456083</td>\n",
       "      <td>0.419504</td>\n",
       "      <td>0.449866</td>\n",
       "      <td>0.449866</td>\n",
       "      <td>526114091</td>\n",
       "    </tr>\n",
       "    <tr>\n",
       "      <th>2024-05-02</th>\n",
       "      <td>0.449866</td>\n",
       "      <td>0.461007</td>\n",
       "      <td>0.440861</td>\n",
       "      <td>0.458282</td>\n",
       "      <td>0.458282</td>\n",
       "      <td>357372995</td>\n",
       "    </tr>\n",
       "    <tr>\n",
       "      <th>2024-05-03</th>\n",
       "      <td>0.458257</td>\n",
       "      <td>0.468223</td>\n",
       "      <td>0.447777</td>\n",
       "      <td>0.466993</td>\n",
       "      <td>0.466993</td>\n",
       "      <td>323509664</td>\n",
       "    </tr>\n",
       "  </tbody>\n",
       "</table>\n",
       "<p>1219 rows × 6 columns</p>\n",
       "</div>"
      ],
      "text/plain": [
       "                Open      High       Low     Close  Adj Close      Volume\n",
       "Date                                                                     \n",
       "2021-01-01  0.181382  0.184246  0.172022  0.175350   0.175350  1122218004\n",
       "2021-01-02  0.175359  0.184253  0.169233  0.177423   0.177423  1408849504\n",
       "2021-01-03  0.177382  0.208679  0.173376  0.204995   0.204995  2303857909\n",
       "2021-01-04  0.205236  0.239661  0.194450  0.224762   0.224762  3260699086\n",
       "2021-01-05  0.224817  0.264886  0.208454  0.258314   0.258314  4097207384\n",
       "...              ...       ...       ...       ...        ...         ...\n",
       "2024-04-29  0.460482  0.463061  0.448116  0.457365   0.457365   301014261\n",
       "2024-04-30  0.457363  0.462385  0.427744  0.440812   0.440812   409016669\n",
       "2024-05-01  0.440815  0.456083  0.419504  0.449866   0.449866   526114091\n",
       "2024-05-02  0.449866  0.461007  0.440861  0.458282   0.458282   357372995\n",
       "2024-05-03  0.458257  0.468223  0.447777  0.466993   0.466993   323509664\n",
       "\n",
       "[1219 rows x 6 columns]"
      ]
     },
     "execution_count": 271,
     "metadata": {},
     "output_type": "execute_result"
    }
   ],
   "source": [
    "ada = yf.download(\"ADA-USD\", start = \"2021-01-01\")\n",
    "ada"
   ]
  },
  {
   "cell_type": "code",
   "execution_count": 272,
   "metadata": {},
   "outputs": [
    {
     "name": "stdout",
     "output_type": "stream",
     "text": [
      "[*********************100%%**********************]  1 of 1 completed\n"
     ]
    },
    {
     "data": {
      "text/html": [
       "<div>\n",
       "<style scoped>\n",
       "    .dataframe tbody tr th:only-of-type {\n",
       "        vertical-align: middle;\n",
       "    }\n",
       "\n",
       "    .dataframe tbody tr th {\n",
       "        vertical-align: top;\n",
       "    }\n",
       "\n",
       "    .dataframe thead th {\n",
       "        text-align: right;\n",
       "    }\n",
       "</style>\n",
       "<table border=\"1\" class=\"dataframe\">\n",
       "  <thead>\n",
       "    <tr style=\"text-align: right;\">\n",
       "      <th></th>\n",
       "      <th>Open</th>\n",
       "      <th>High</th>\n",
       "      <th>Low</th>\n",
       "      <th>Close</th>\n",
       "      <th>Adj Close</th>\n",
       "      <th>Volume</th>\n",
       "    </tr>\n",
       "    <tr>\n",
       "      <th>Date</th>\n",
       "      <th></th>\n",
       "      <th></th>\n",
       "      <th></th>\n",
       "      <th></th>\n",
       "      <th></th>\n",
       "      <th></th>\n",
       "    </tr>\n",
       "  </thead>\n",
       "  <tbody>\n",
       "    <tr>\n",
       "      <th>2021-01-01</th>\n",
       "      <td>1.509775</td>\n",
       "      <td>1.859656</td>\n",
       "      <td>1.502038</td>\n",
       "      <td>1.842084</td>\n",
       "      <td>1.842084</td>\n",
       "      <td>25722549</td>\n",
       "    </tr>\n",
       "    <tr>\n",
       "      <th>2021-01-02</th>\n",
       "      <td>1.845586</td>\n",
       "      <td>1.989295</td>\n",
       "      <td>1.721482</td>\n",
       "      <td>1.799275</td>\n",
       "      <td>1.799275</td>\n",
       "      <td>31671064</td>\n",
       "    </tr>\n",
       "    <tr>\n",
       "      <th>2021-01-03</th>\n",
       "      <td>1.799902</td>\n",
       "      <td>2.364981</td>\n",
       "      <td>1.799902</td>\n",
       "      <td>2.161752</td>\n",
       "      <td>2.161752</td>\n",
       "      <td>55073422</td>\n",
       "    </tr>\n",
       "    <tr>\n",
       "      <th>2021-01-04</th>\n",
       "      <td>2.162412</td>\n",
       "      <td>2.485097</td>\n",
       "      <td>1.876342</td>\n",
       "      <td>2.485097</td>\n",
       "      <td>2.485097</td>\n",
       "      <td>59955405</td>\n",
       "    </tr>\n",
       "    <tr>\n",
       "      <th>2021-01-05</th>\n",
       "      <td>2.490982</td>\n",
       "      <td>2.502616</td>\n",
       "      <td>2.077742</td>\n",
       "      <td>2.157217</td>\n",
       "      <td>2.157217</td>\n",
       "      <td>50555207</td>\n",
       "    </tr>\n",
       "    <tr>\n",
       "      <th>...</th>\n",
       "      <td>...</td>\n",
       "      <td>...</td>\n",
       "      <td>...</td>\n",
       "      <td>...</td>\n",
       "      <td>...</td>\n",
       "      <td>...</td>\n",
       "    </tr>\n",
       "    <tr>\n",
       "      <th>2024-04-29</th>\n",
       "      <td>137.860184</td>\n",
       "      <td>138.738724</td>\n",
       "      <td>133.709167</td>\n",
       "      <td>137.776657</td>\n",
       "      <td>137.776657</td>\n",
       "      <td>2464951751</td>\n",
       "    </tr>\n",
       "    <tr>\n",
       "      <th>2024-04-30</th>\n",
       "      <td>137.777298</td>\n",
       "      <td>139.667648</td>\n",
       "      <td>121.637459</td>\n",
       "      <td>126.962708</td>\n",
       "      <td>126.962708</td>\n",
       "      <td>3407320371</td>\n",
       "    </tr>\n",
       "    <tr>\n",
       "      <th>2024-05-01</th>\n",
       "      <td>126.962547</td>\n",
       "      <td>135.113861</td>\n",
       "      <td>119.384811</td>\n",
       "      <td>134.627975</td>\n",
       "      <td>134.627975</td>\n",
       "      <td>4136407963</td>\n",
       "    </tr>\n",
       "    <tr>\n",
       "      <th>2024-05-02</th>\n",
       "      <td>134.627975</td>\n",
       "      <td>140.281525</td>\n",
       "      <td>128.260284</td>\n",
       "      <td>137.814484</td>\n",
       "      <td>137.814484</td>\n",
       "      <td>3380078368</td>\n",
       "    </tr>\n",
       "    <tr>\n",
       "      <th>2024-05-03</th>\n",
       "      <td>137.766541</td>\n",
       "      <td>143.724762</td>\n",
       "      <td>136.144333</td>\n",
       "      <td>142.618057</td>\n",
       "      <td>142.618057</td>\n",
       "      <td>3241827840</td>\n",
       "    </tr>\n",
       "  </tbody>\n",
       "</table>\n",
       "<p>1219 rows × 6 columns</p>\n",
       "</div>"
      ],
      "text/plain": [
       "                  Open        High         Low       Close   Adj Close  \\\n",
       "Date                                                                     \n",
       "2021-01-01    1.509775    1.859656    1.502038    1.842084    1.842084   \n",
       "2021-01-02    1.845586    1.989295    1.721482    1.799275    1.799275   \n",
       "2021-01-03    1.799902    2.364981    1.799902    2.161752    2.161752   \n",
       "2021-01-04    2.162412    2.485097    1.876342    2.485097    2.485097   \n",
       "2021-01-05    2.490982    2.502616    2.077742    2.157217    2.157217   \n",
       "...                ...         ...         ...         ...         ...   \n",
       "2024-04-29  137.860184  138.738724  133.709167  137.776657  137.776657   \n",
       "2024-04-30  137.777298  139.667648  121.637459  126.962708  126.962708   \n",
       "2024-05-01  126.962547  135.113861  119.384811  134.627975  134.627975   \n",
       "2024-05-02  134.627975  140.281525  128.260284  137.814484  137.814484   \n",
       "2024-05-03  137.766541  143.724762  136.144333  142.618057  142.618057   \n",
       "\n",
       "                Volume  \n",
       "Date                    \n",
       "2021-01-01    25722549  \n",
       "2021-01-02    31671064  \n",
       "2021-01-03    55073422  \n",
       "2021-01-04    59955405  \n",
       "2021-01-05    50555207  \n",
       "...                ...  \n",
       "2024-04-29  2464951751  \n",
       "2024-04-30  3407320371  \n",
       "2024-05-01  4136407963  \n",
       "2024-05-02  3380078368  \n",
       "2024-05-03  3241827840  \n",
       "\n",
       "[1219 rows x 6 columns]"
      ]
     },
     "execution_count": 272,
     "metadata": {},
     "output_type": "execute_result"
    }
   ],
   "source": [
    "sol = yf.download(\"SOL-USD\", start = \"2021-01-01\")\n",
    "sol"
   ]
  },
  {
   "cell_type": "code",
   "execution_count": 273,
   "metadata": {},
   "outputs": [
    {
     "data": {
      "text/plain": [
       "Open         0\n",
       "High         0\n",
       "Low          0\n",
       "Close        0\n",
       "Adj Close    0\n",
       "Volume       0\n",
       "dtype: int64"
      ]
     },
     "execution_count": 273,
     "metadata": {},
     "output_type": "execute_result"
    }
   ],
   "source": [
    "#Por la naturaleza de los datos no tendremos N/a\n",
    "btc.isnull().sum()\n",
    "eth.isnull().sum()\n",
    "ada.isnull().sum()\n",
    "sol.isnull().sum()"
   ]
  },
  {
   "attachments": {},
   "cell_type": "markdown",
   "metadata": {},
   "source": [
    "En cuanto a tipos de datos, datos faltantes o categóricos/numéricos no habrá mayor problemas puesto que tenemos únicamente datos numéricos completos.\n",
    "Exploraré trabajar con el porcentaje de cambio respecto al día anterior de los precios de la columna Close y el precio en sí de la misma columna."
   ]
  },
  {
   "cell_type": "code",
   "execution_count": 274,
   "metadata": {},
   "outputs": [],
   "source": [
    "btc = btc['Close'] \n",
    "btc_percent = 100*(btc.pct_change())\n",
    "btc_percent = btc_percent.dropna()\n"
   ]
  },
  {
   "cell_type": "code",
   "execution_count": 275,
   "metadata": {},
   "outputs": [],
   "source": [
    "eth = eth['Close']\n",
    "eth_percent = 100*(eth.pct_change())\n",
    "eth_percent = eth_percent.dropna()"
   ]
  },
  {
   "cell_type": "code",
   "execution_count": 276,
   "metadata": {},
   "outputs": [],
   "source": [
    "ada = ada['Close']\n",
    "ada_percent = 100*(ada.pct_change())\n",
    "ada_percent = ada_percent.dropna()"
   ]
  },
  {
   "cell_type": "code",
   "execution_count": 277,
   "metadata": {},
   "outputs": [],
   "source": [
    "sol = sol['Close']\n",
    "sol_percent = 100*(sol.pct_change())\n",
    "sol_percent = sol_percent.dropna()\n"
   ]
  },
  {
   "attachments": {},
   "cell_type": "markdown",
   "metadata": {},
   "source": [
    "# Correlación \n",
    "Por naturaleza, Bitcoin es la cryptomoneda más mediática y de cierta forma el principal pilar del mercado, por ello vale la pena analizar que tan fuerte es su correlación con las demás cryptos seleccionadas."
   ]
  },
  {
   "cell_type": "code",
   "execution_count": 278,
   "metadata": {},
   "outputs": [
    {
     "name": "stdout",
     "output_type": "stream",
     "text": [
      "Correlación BTC-ETH: 0.8028838180824271\n",
      "Correlación BTC-ADA: 0.586356678710873\n",
      "Correlación BTC-SOL: 0.7061813492108513\n"
     ]
    }
   ],
   "source": [
    "print('Correlación BTC-ETH:' , btc.corr(eth))\n",
    "print('Correlación BTC-ADA:' , btc.corr(ada))\n",
    "print('Correlación BTC-SOL:' , btc.corr(sol))"
   ]
  },
  {
   "cell_type": "code",
   "execution_count": 279,
   "metadata": {},
   "outputs": [
    {
     "name": "stdout",
     "output_type": "stream",
     "text": [
      "Correlación BTC% - ETH%: 0.8122095920543702\n",
      "Correlación BTC% - ADA%: 0.6546761068398799\n",
      "Correlación BTC% - SOL%: 0.5647046608736547\n"
     ]
    }
   ],
   "source": [
    "print('Correlación BTC% - ETH%:' , btc_percent.corr(eth_percent))\n",
    "print('Correlación BTC% - ADA%:' , btc_percent.corr(ada_percent))\n",
    "print('Correlación BTC% - SOL%:' , btc_percent.corr(sol_percent))"
   ]
  },
  {
   "cell_type": "code",
   "execution_count": 280,
   "metadata": {},
   "outputs": [
    {
     "name": "stdout",
     "output_type": "stream",
     "text": [
      "Correlación ETH-ADA: 0.7182799192740387\n",
      "Correlación ETH-SOL: 0.8929587719336688\n"
     ]
    }
   ],
   "source": [
    "print('Correlación ETH-ADA:' , eth.corr(ada))\n",
    "print('Correlación ETH-SOL:' , eth.corr(sol))"
   ]
  },
  {
   "cell_type": "code",
   "execution_count": 281,
   "metadata": {},
   "outputs": [
    {
     "name": "stdout",
     "output_type": "stream",
     "text": [
      "Correlación ETH%-ADA%: 0.6825653166868916\n",
      "Correlación ETH%-SOL%: 0.6189950524384252\n"
     ]
    }
   ],
   "source": [
    "print('Correlación ETH%-ADA%:' , eth_percent.corr(ada_percent))\n",
    "print('Correlación ETH%-SOL%:' , eth_percent.corr(sol_percent))"
   ]
  },
  {
   "cell_type": "code",
   "execution_count": 282,
   "metadata": {},
   "outputs": [
    {
     "data": {
      "text/plain": [
       "<Axes: xlabel='Date'>"
      ]
     },
     "execution_count": 282,
     "metadata": {},
     "output_type": "execute_result"
    },
    {
     "data": {
      "image/png": "[encoded data removed]",
      "text/plain": [
       "<Figure size 640x480 with 1 Axes>"
      ]
     },
     "metadata": {},
     "output_type": "display_data"
    }
   ],
   "source": [
    "btc_percent.plot()"
   ]
  },
  {
   "cell_type": "code",
   "execution_count": 283,
   "metadata": {},
   "outputs": [
    {
     "data": {
      "text/plain": [
       "<Axes: xlabel='Date'>"
      ]
     },
     "execution_count": 283,
     "metadata": {},
     "output_type": "execute_result"
    },
    {
     "data": {
      "image/png": "[encoded data removed]",
      "text/plain": [
       "<Figure size 640x480 with 1 Axes>"
      ]
     },
     "metadata": {},
     "output_type": "display_data"
    }
   ],
   "source": [
    "eth_percent.plot()"
   ]
  },
  {
   "cell_type": "code",
   "execution_count": 284,
   "metadata": {},
   "outputs": [
    {
     "data": {
      "text/plain": [
       "<Axes: xlabel='Date'>"
      ]
     },
     "execution_count": 284,
     "metadata": {},
     "output_type": "execute_result"
    },
    {
     "data": {
      "image/png": "[encoded data removed]",
      "text/plain": [
       "<Figure size 640x480 with 1 Axes>"
      ]
     },
     "metadata": {},
     "output_type": "display_data"
    }
   ],
   "source": [
    "ada_percent.plot()"
   ]
  },
  {
   "cell_type": "code",
   "execution_count": 285,
   "metadata": {},
   "outputs": [
    {
     "data": {
      "text/plain": [
       "<Axes: xlabel='Date'>"
      ]
     },
     "execution_count": 285,
     "metadata": {},
     "output_type": "execute_result"
    },
    {
     "data": {
      "image/png": "[encoded data removed]",
      "text/plain": [
       "<Figure size 640x480 with 1 Axes>"
      ]
     },
     "metadata": {},
     "output_type": "display_data"
    }
   ],
   "source": [
    "sol_percent.plot()"
   ]
  },
  {
   "attachments": {},
   "cell_type": "markdown",
   "metadata": {},
   "source": [
    "Se obtuvieron buenos valores de correlación, basándome en conocimiento teórico, como hipótesis plantearé alimentar a mi red de una matriz de 4 columnas, una por cada crypto."
   ]
  },
  {
   "attachments": {},
   "cell_type": "markdown",
   "metadata": {},
   "source": [
    "# Preprocesamiento de Datos"
   ]
  },
  {
   "cell_type": "code",
   "execution_count": 511,
   "metadata": {},
   "outputs": [
    {
     "data": {
      "text/plain": [
       "(1218, 1)"
      ]
     },
     "execution_count": 511,
     "metadata": {},
     "output_type": "execute_result"
    }
   ],
   "source": [
    "#X = pd.concat([btc, eth, sol, ada], axis=1)\n",
    "#X.columns = ['BTC','ETH','ADA','SOL']\n",
    "#X.head()\n",
    "#X.shape\n",
    "from sklearn.preprocessing import MinMaxScaler\n",
    "scaler = MinMaxScaler(feature_range=(0, 1))\n",
    "ada_scaled = scaler.fit_transform(ada_percent.values.reshape(-1, 1)) #.values.reshape(-1, 1))?\n",
    "ada_scaled.shape"
   ]
  },
  {
   "cell_type": "code",
   "execution_count": 452,
   "metadata": {},
   "outputs": [],
   "source": [
    "X = []\n",
    "Y = []\n",
    "\n",
    "for i in range(60, len(ada_scaled)):\n",
    "    X.append(ada_scaled[i-60:i])\n",
    "    Y.append(ada_scaled[i])"
   ]
  },
  {
   "cell_type": "code",
   "execution_count": 474,
   "metadata": {},
   "outputs": [],
   "source": [
    "from sklearn.model_selection import train_test_split\n",
    "x_train, x_test, y_train, y_test = train_test_split(X, Y, test_size=0.05, shuffle=False, random_state=12)"
   ]
  },
  {
   "cell_type": "code",
   "execution_count": 475,
   "metadata": {},
   "outputs": [],
   "source": [
    "x_train = np.array(x_train)\n",
    "x_test = np.array(x_test)\n",
    "y_train = np.array(y_train)\n",
    "y_test = np.array(y_test)"
   ]
  },
  {
   "cell_type": "code",
   "execution_count": 476,
   "metadata": {},
   "outputs": [
    {
     "name": "stdout",
     "output_type": "stream",
     "text": [
      "Training shape: (1100, 60, 1) (1100, 1)\n",
      "Test shape: (58, 60, 1) (58, 1)\n"
     ]
    }
   ],
   "source": [
    "print('Training shape:', x_train.shape, y_train.shape)\n",
    "print('Test shape:', x_test.shape, y_test.shape)"
   ]
  }
 ],
 "metadata": {
  "kernelspec": {
   "display_name": "base",
   "language": "python",
   "name": "python3"
  },
  "language_info": {
   "codemirror_mode": {
    "name": "ipython",
    "version": 3
   },
   "file_extension": ".py",
   "mimetype": "text/x-python",
   "name": "python",
   "nbconvert_exporter": "python",
   "pygments_lexer": "ipython3",
   "version": "3.11.4"
  },
  "orig_nbformat": 4
 },
 "nbformat": 4,
 "nbformat_minor": 2
}
